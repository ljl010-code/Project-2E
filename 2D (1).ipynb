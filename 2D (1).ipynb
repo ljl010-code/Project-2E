{
 "cells": [
  {
   "cell_type": "markdown",
   "metadata": {},
   "source": [
    "# Introduction \n",
    "### Scientific question \n",
    "#### Can we compare the viral sequences of viruses, one that we are able to make a vaccine for (measles), and one that we are attempting to make a vaccine for (HIV), to assist us in eradicating the HIV virus? \n",
    "### Background \n",
    "#### According to the article, \"How Genetic Sequence Data Can Guide Vaccine Design,\" viral protein sequence data has become more readily available. Therefore, they are a huge factor in making vaccines. Through the sequences, we are able to identify mutations that we can target in vaccine development. According to the article, we should be able to find vulnerable sequences in HIV that may possibly lead to an effective vaccine. (Muhammad et al.). The viral species that we are using for this are HIV-1 isolate Cameroon1 and Influenza A virus (I have now also added measles and coronavirus for comparison as well). I chose these because the sequences for corona virus and influenza under the GISAID database were too large for my computer to run. Using these helps demonstrate the bioinformatics method of phylogenetic trees and GISAID sequencing alignment method. The data was sourced from the NCBI database, as they had smaller files. \n",
    "### Hypothesis \n",
    "#### If two viral envelope protein sequences are similar and one virus (measles) has a vaccine against it, then it is likely that the other virus (HIV) could also have a vaccine against it. That vaccine can be developed similarly to how the measles vaccine was developed. \n",
    "### Analyses \n",
    "#### We are going to develop phylogenetic tree using viral sequences NCBI to compare their similarity. We were going to use GISAID alignment sequencing, but the GISAID files were too big for my computer. Therefore, we decided to use NCBI. From the phylogenetic trees it looks like that HIV and influenza are the most closely related. From looking at the vaccine for influenza, we typically have to generate a new vaccine every year depending on the strain that is the most prominent that year. Maybe that means for HIV, we would have to do the same. Whereas, for measles, we have one really good vaccine that helped eradicate it. I think that it may be difficult to do this for HIV because HIV often goes into latency. However, generating a vaccine can prepare the body with an immune response that can help when HIV leaves latency. There is a lot left to analyze in this field, and I hope I can learn more. "
   ]
  },
  {
   "cell_type": "markdown",
   "metadata": {},
   "source": [
    "# Loading Packages"
   ]
  },
  {
   "cell_type": "code",
   "execution_count": 1,
   "metadata": {},
   "outputs": [],
   "source": [
    "# import Biopython\n",
    "import Bio as Bio \n",
    "\n",
    "# import our important packages\n",
    "from Bio import SeqIO \n",
    "# SeqIO: provides a simple uniform interface to input and output assorted sequence file formats (including multiple sequence alignments)\n",
    "from Bio import AlignIO\n",
    "# AlignIO: allows an easy interface for simple alignment file format conversions.\n",
    "from Bio import Phylo\n",
    "# Phylo: this module provides four I/O functions: parse(), read(), write() and convert()\n",
    "from Bio.Phylo.TreeConstruction import DistanceCalculator\n",
    "# DistanceCalculator: hosts a large number of different models for the tree construction\n",
    "from Bio.Phylo.TreeConstruction import DistanceTreeConstructor\n",
    "# DistanceTreeConstructor: constructs the tree \n",
    "import matplotlib\n",
    "# matplotlib: Plotting library\n",
    "import matplotlib.pyplot as plt\n",
    "# Python module to work with Biopython"
   ]
  },
  {
   "cell_type": "markdown",
   "metadata": {},
   "source": [
    "# Performing Bioinformatics Analysis \n",
    "#### SeqIO.parse() and AlignIO.read()  was used to generate alignments for the nucleotide sequences. This allows the data to be aligned in order to be compared for similarity to generate the phylogenetic tree. \n",
    "#### There were issues with accessing the GISAID data, as the file is too large. Therefore, finding the sequencing and making the files myself would suffice. \n",
    "#### The data type that was used was 'fasta' which is the standardized datatype where it has an ID code section followed by the nucleotide sequence. \n",
    "#### Viruses that have a really good vaccine (measles) and viruses with a vaccine that is still a work in progress (coronavirus) were added for comparison. That way, they can be a comparison used when determining if we can use genomic relatedness to help develop a vaccine for HIV. \n",
    "#### This is being done, so it can determine the similarity between HIV (a virus with no vaccine) to other viruses like coronavirus (a developing vaccine), measles (an effective vaccine), and influenza (a yearly vaccine). Depending on which one it is most similar to can show which vaccine can be developed for HIV. A phylogenetic tree is really effective because the similarity can easily be seen through the branches of a tree. "
   ]
  },
  {
   "cell_type": "code",
   "execution_count": 14,
   "metadata": {},
   "outputs": [],
   "source": [
    "# Processing the data \n",
    "# HIV = MN692147.1\n",
    "list_hiv = list(SeqIO.parse(\"hiv.fasta\", \"fasta\"))\n",
    "# FLU = NC_002023.1\n",
    "list_flu = list(SeqIO.parse(\"influenza.fasta\", \"fasta\"))\n",
    "# COVID = NC_045512.2\n",
    "list_covid = list(SeqIO.parse(\"covid.fasta\", \"fasta\"))\n",
    "# MEASLES = NC_011498.1\n",
    "list_measles = list(SeqIO.parse(\"measles.fasta\", \"fasta\"))"
   ]
  },
  {
   "cell_type": "code",
   "execution_count": 3,
   "metadata": {},
   "outputs": [],
   "source": [
    "# generating alignment of the sequences\n",
    "with open(\"virus.clw\",\"r\") as aln: \n",
    "\talignment = AlignIO.read(aln,\"clustal\")"
   ]
  },
  {
   "cell_type": "code",
   "execution_count": 11,
   "metadata": {
    "scrolled": false
   },
   "outputs": [
    {
     "name": "stdout",
     "output_type": "stream",
     "text": [
      "Tree(rooted=False)\n",
      "    Clade(branch_length=0, name='Inner2')\n",
      "        Clade(branch_length=0.17237133507420754, name='Inner1')\n",
      "            Clade(branch_length=0.16685122136647607, name='NC_002023.1')\n",
      "            Clade(branch_length=0.09216441344660037, name='MN692147.1')\n",
      "        Clade(branch_length=0.14982811621987902, name='NC_001498.1')\n",
      "        Clade(branch_length=0.5935692328033582, name='NC_045512.2')\n"
     ]
    }
   ],
   "source": [
    "# calculating sequence similarity\n",
    "calculator = DistanceCalculator()\n",
    "constructor = DistanceTreeConstructor(calculator)\n",
    "tree = constructor.build_tree(alignment)\n",
    "print(tree)"
   ]
  },
  {
   "cell_type": "markdown",
   "metadata": {},
   "source": [
    "# Plotting the Results \n",
    "#### the data analysis method I used was a phylogenetic tree. With my four virus types, it looks to me that influenza (NC_002023.1) and HIV (MN692147.1) are the most closely related in comparison with coronavirus (NC_001498.1) and measles (NC_045512.2). I am still trying to figure out how to label the correct virus names on the phylogenetic tree. "
   ]
  },
  {
   "cell_type": "code",
   "execution_count": 8,
   "metadata": {
    "scrolled": true
   },
   "outputs": [
    {
     "data": {
      "image/png": "[encoded data removed]",
      "text/plain": [
       "<Figure size 432x288 with 1 Axes>"
      ]
     },
     "metadata": {
      "needs_background": "light"
     },
     "output_type": "display_data"
    }
   ],
   "source": [
    "# graphing the data into a phylogenetic tree\n",
    "fig = Phylo.draw(tree)"
   ]
  },
  {
   "cell_type": "markdown",
   "metadata": {},
   "source": [
    "# Analysis of the Results\n",
    "#### We can see that the influenza virus and HIV are the most closely related. I find this interesting because influenza is a virus that we always have to generate a new vaccine for, and HIV is a virus that we have no vaccine for. The ones farthest related are coronavirus and measles. For measles we have a vaccine that eradicated the virus. This makes sense because it is furthest from the other viruses, which is why we may have a vaccine already for it because the genome is useful for eradication. Coronavirus has a vaccine, but it is still under the radar regarding whether or not we need a booster or not. Therefore, it makes sense that the two viruses with the most unstable vaccine development would be the closest related. Hopefully that means we can possible generate a vaccine every year to treat patients with HIV. My hypothesis can be proven with further research and technology. Because it is closely related to coronavirus, we can possibly conduct an mRNA vaccine for it; just like we have for coronavirus. This is a great start in researching the possibilities of developing a vaccine for HIV. "
   ]
  },
  {
   "cell_type": "code",
   "execution_count": null,
   "metadata": {},
   "outputs": [],
   "source": []
  }
 ],
 "metadata": {
  "kernelspec": {
   "display_name": "Python 3",
   "language": "python",
   "name": "python3"
  },
  "language_info": {
   "codemirror_mode": {
    "name": "ipython",
    "version": 3
   },
   "file_extension": ".py",
   "mimetype": "text/x-python",
   "name": "python",
   "nbconvert_exporter": "python",
   "pygments_lexer": "ipython3",
   "version": "3.8.5"
  }
 },
 "nbformat": 4,
 "nbformat_minor": 4
}
